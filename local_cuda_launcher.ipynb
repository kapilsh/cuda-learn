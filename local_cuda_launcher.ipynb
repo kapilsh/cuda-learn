{
 "cells": [
  {
   "cell_type": "code",
   "execution_count": 1,
   "id": "9ab5defd-fd0a-4dbd-9410-c160e20c545f",
   "metadata": {},
   "outputs": [],
   "source": [
    "cuda_code_file = \"./src/gpu.cu\"\n",
    "header_code_file = \"./src/gpu.hpp\""
   ]
  },
  {
   "cell_type": "code",
   "execution_count": 3,
   "id": "52c6d96b-935a-4793-a57c-b27811b1e75c",
   "metadata": {},
   "outputs": [
    {
     "name": "stdout",
     "output_type": "stream",
     "text": [
      "\n",
      "void printCudaVersion()\n",
      "{\n",
      "    std::cout << \"CUDA Compiled version: \" << __CUDACC_VER_MAJOR__ << \".\" << __CUDACC_VER_MINOR__ << std::endl;\n",
      "\n",
      "    int runtime_ver;\n",
      "    cudaRuntimeGetVersion(&runtime_ver);\n",
      "    std::cout << \"CUDA Runtime version: \" << runtime_ver << std::endl;\n",
      "\n",
      "    int driver_ver;\n",
      "    cudaDriverGetVersion(&driver_ver);\n",
      "    std::cout << \"CUDA Driver version: \" << driver_ver << std::endl;\n",
      "}\n",
      "\n",
      "__global__\n",
      "void saxpy(int n, float a, float *x, float *y) {\n",
      "    int i = blockIdx.x*blockDim.x + threadIdx.x;\n",
      "    if (i < n) {\n",
      "        y[i] = a*x[i] + y[i];\n",
      "    }\n",
      "}\n",
      "\n",
      "torch::Tensor saxpy_wrapper(int n, const torch::Tensor& x, torch::Tensor y, float a) {\n",
      "    saxpy<<<n, 1>>>(n, a, x.data_ptr<float>(), y.data_ptr<float>());\n",
      "    std::cout <<  \"Calculated saxpy\\n\";\n",
      "    cudaDeviceSynchronize();\n",
      "    return y;\n",
      "}\n"
     ]
    }
   ],
   "source": [
    "with open(cuda_code_file) as f:\n",
    "    cuda_code = \"\".join([f for f in f.readlines() if not f.startswith(\"#include\")])\n",
    "    print(cuda_code)"
   ]
  },
  {
   "cell_type": "code",
   "execution_count": 4,
   "id": "c445d909-0802-4df7-ac4a-0c429edb956a",
   "metadata": {},
   "outputs": [
    {
     "name": "stdout",
     "output_type": "stream",
     "text": [
      "\n",
      "void printCudaVersion();\n",
      "\n",
      "torch::Tensor saxpy_wrapper(int n, const torch::Tensor& x, torch::Tensor y, float a);\n",
      "\n"
     ]
    }
   ],
   "source": [
    "with open(header_code_file) as f:\n",
    "    header_code = \"\".join([f for f in f.readlines() if not f.startswith(\"#include\")])\n",
    "    print(header_code)"
   ]
  },
  {
   "cell_type": "code",
   "execution_count": 5,
   "id": "b97d7f4f-37e6-4e15-a443-408841fad5f6",
   "metadata": {},
   "outputs": [],
   "source": [
    "!rm ./build/*"
   ]
  },
  {
   "cell_type": "code",
   "execution_count": 6,
   "id": "f00df398-4b04-4155-bdb6-21eed6012d79",
   "metadata": {},
   "outputs": [
    {
     "name": "stderr",
     "output_type": "stream",
     "text": [
      "Detected CUDA files, patching ldflags\n",
      "Emitting ninja build file ./build/build.ninja...\n",
      "Building extension module saxpy_extension...\n",
      "Allowing ninja to set a default number of workers... (overridable by setting the environment variable MAX_JOBS=N)\n"
     ]
    },
    {
     "name": "stdout",
     "output_type": "stream",
     "text": [
      "[1/3] c++ -MMD -MF main.o.d -DTORCH_EXTENSION_NAME=saxpy_extension -DTORCH_API_INCLUDE_EXTENSION_H -DPYBIND11_COMPILER_TYPE=\\\"_gcc\\\" -DPYBIND11_STDLIB=\\\"_libstdcpp\\\" -DPYBIND11_BUILD_ABI=\\\"_cxxabi1011\\\" -isystem /home/ksharma/anaconda3/envs/cuda-learn/lib/python3.12/site-packages/torch/include -isystem /home/ksharma/anaconda3/envs/cuda-learn/lib/python3.12/site-packages/torch/include/torch/csrc/api/include -isystem /home/ksharma/anaconda3/envs/cuda-learn/lib/python3.12/site-packages/torch/include/TH -isystem /home/ksharma/anaconda3/envs/cuda-learn/lib/python3.12/site-packages/torch/include/THC -isystem /home/ksharma/anaconda3/envs/cuda-learn/include -isystem /home/ksharma/anaconda3/envs/cuda-learn/include/python3.12 -D_GLIBCXX_USE_CXX11_ABI=0 -fPIC -std=c++17 -c /home/ksharma/dev/git/cuda-learn/build/main.cpp -o main.o \n",
      "[2/3] /home/ksharma/anaconda3/envs/cuda-learn/bin/nvcc --generate-dependencies-with-compile --dependency-output cuda.cuda.o.d -DTORCH_EXTENSION_NAME=saxpy_extension -DTORCH_API_INCLUDE_EXTENSION_H -DPYBIND11_COMPILER_TYPE=\\\"_gcc\\\" -DPYBIND11_STDLIB=\\\"_libstdcpp\\\" -DPYBIND11_BUILD_ABI=\\\"_cxxabi1011\\\" -isystem /home/ksharma/anaconda3/envs/cuda-learn/lib/python3.12/site-packages/torch/include -isystem /home/ksharma/anaconda3/envs/cuda-learn/lib/python3.12/site-packages/torch/include/torch/csrc/api/include -isystem /home/ksharma/anaconda3/envs/cuda-learn/lib/python3.12/site-packages/torch/include/TH -isystem /home/ksharma/anaconda3/envs/cuda-learn/lib/python3.12/site-packages/torch/include/THC -isystem /home/ksharma/anaconda3/envs/cuda-learn/include -isystem /home/ksharma/anaconda3/envs/cuda-learn/include/python3.12 -D_GLIBCXX_USE_CXX11_ABI=0 -D__CUDA_NO_HALF_OPERATORS__ -D__CUDA_NO_HALF_CONVERSIONS__ -D__CUDA_NO_BFLOAT16_CONVERSIONS__ -D__CUDA_NO_HALF2_OPERATORS__ --expt-relaxed-constexpr -gencode=arch=compute_75,code=compute_75 -gencode=arch=compute_75,code=sm_75 --compiler-options '-fPIC' -O2 -std=c++17 -c /home/ksharma/dev/git/cuda-learn/build/cuda.cu -o cuda.cuda.o \n",
      "[3/3] c++ main.o cuda.cuda.o -shared -L/home/ksharma/anaconda3/envs/cuda-learn/lib/python3.12/site-packages/torch/lib -lc10 -lc10_cuda -ltorch_cpu -ltorch_cuda -ltorch -ltorch_python -L/home/ksharma/anaconda3/envs/cuda-learn/lib -lcudart -o saxpy_extension.so\n",
      "CUDA Compiled version: 12.1\n"
     ]
    },
    {
     "name": "stderr",
     "output_type": "stream",
     "text": [
      "Loading extension module saxpy_extension...\n"
     ]
    },
    {
     "name": "stdout",
     "output_type": "stream",
     "text": [
      "CUDA Runtime version: 11070\n",
      "CUDA Driver version: 12020\n"
     ]
    }
   ],
   "source": [
    "import torch\n",
    "from torch.utils.cpp_extension import load_inline\n",
    "\n",
    "saxpy_extension = load_inline(\n",
    "    name='saxpy_extension',\n",
    "    cpp_sources=header_code,\n",
    "    cuda_sources=cuda_code,\n",
    "    functions=['saxpy_wrapper', \"printCudaVersion\"],\n",
    "    with_cuda=True,\n",
    "    verbose=True,\n",
    "    extra_cuda_cflags=[\"-O2\"],\n",
    "    build_directory='./build',\n",
    "    # extra_cuda_cflags=['--expt-relaxed-constexpr']\n",
    ")\n",
    "\n",
    "a = torch.tensor([[1., 2., 3.], [4., 5., 6.]], device='cuda')\n",
    "saxpy_extension.printCudaVersion()"
   ]
  },
  {
   "cell_type": "code",
   "execution_count": 7,
   "id": "8e8c4ee7-c140-48e7-9d01-3105c9b7a8ef",
   "metadata": {},
   "outputs": [
    {
     "name": "stdout",
     "output_type": "stream",
     "text": [
      "tensor([[ 0.8709, -0.0807, -1.8766],\n",
      "        [-0.2632,  0.7398, -0.9265]], device='cuda:0')\n",
      "tensor([[-1.6356,  0.4335,  0.0403],\n",
      "        [-0.9111,  2.2448,  0.1985]], device='cuda:0')\n",
      "Calculated saxpy\n"
     ]
    },
    {
     "data": {
      "text/plain": [
       "tensor([[ 0.1062,  0.2721, -3.7128],\n",
       "        [-1.4375,  3.7244, -1.6544]], device='cuda:0')"
      ]
     },
     "execution_count": 7,
     "metadata": {},
     "output_type": "execute_result"
    }
   ],
   "source": [
    "x = torch.randn((2, 3), device=\"cuda\")\n",
    "y = torch.randn((2, 3), device=\"cuda\")\n",
    "print(x)\n",
    "print(y)\n",
    "\n",
    "saxpy_extension.saxpy_wrapper(6, x, y, 2.0)"
   ]
  },
  {
   "cell_type": "code",
   "execution_count": null,
   "id": "4e89598d-a0a8-4c81-9e8c-0b40ff0cb257",
   "metadata": {},
   "outputs": [],
   "source": []
  }
 ],
 "metadata": {
  "kernelspec": {
   "display_name": "Python 3 (ipykernel)",
   "language": "python",
   "name": "python3"
  },
  "language_info": {
   "codemirror_mode": {
    "name": "ipython",
    "version": 3
   },
   "file_extension": ".py",
   "mimetype": "text/x-python",
   "name": "python",
   "nbconvert_exporter": "python",
   "pygments_lexer": "ipython3",
   "version": "3.12.2"
  }
 },
 "nbformat": 4,
 "nbformat_minor": 5
}
