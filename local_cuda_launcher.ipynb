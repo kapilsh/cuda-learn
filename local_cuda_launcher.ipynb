{
 "cells": [
  {
   "cell_type": "code",
   "execution_count": 1,
   "id": "9ab5defd-fd0a-4dbd-9410-c160e20c545f",
   "metadata": {},
   "outputs": [],
   "source": [
    "cuda_code_file = \"./src/gpu.cu\"\n",
    "header_code_file = \"./src/gpu.hpp\""
   ]
  },
  {
   "cell_type": "code",
   "execution_count": 3,
   "id": "52c6d96b-935a-4793-a57c-b27811b1e75c",
   "metadata": {},
   "outputs": [
    {
     "name": "stdout",
     "output_type": "stream",
     "text": [
      "\n",
      "void printCudaVersion()\n",
      "{\n",
      "    std::cout << \"CUDA Compiled version: \" << __CUDACC_VER_MAJOR__ << \".\" << __CUDACC_VER_MINOR__ << std::endl;\n",
      "\n",
      "    int runtime_ver;\n",
      "    cudaRuntimeGetVersion(&runtime_ver);\n",
      "    std::cout << \"CUDA Runtime version: \" << runtime_ver << std::endl;\n",
      "\n",
      "    int driver_ver;\n",
      "    cudaDriverGetVersion(&driver_ver);\n",
      "    std::cout << \"CUDA Driver version: \" << driver_ver << std::endl;\n",
      "}\n",
      "\n",
      "__global__\n",
      "void saxpy(int n, float a, float *x, float *y) {\n",
      "    int i = blockIdx.x*blockDim.x + threadIdx.x;\n",
      "    if (i < n) {\n",
      "        y[i] = a*x[i] + y[i];\n",
      "    }\n",
      "}\n",
      "\n",
      "torch::Tensor saxpy_wrapper(int n, const torch::Tensor& x, torch::Tensor y, float a) {\n",
      "    saxpy<<<n, 1>>>(n, a, x.data_ptr<float>(), y.data_ptr<float>());\n",
      "    std::cout <<  \"Calculated saxpy\\n\";\n",
      "    cudaDeviceSynchronize();\n",
      "    return y;\n",
      "}\n"
     ]
    }
   ],
   "source": [
    "with open(cuda_code_file) as f:\n",
    "    cuda_code = \"\".join([f for f in f.readlines() if not f.startswith(\"#include\")])\n",
    "    print(cuda_code)"
   ]
  },
  {
   "cell_type": "code",
   "execution_count": 4,
   "id": "c445d909-0802-4df7-ac4a-0c429edb956a",
   "metadata": {},
   "outputs": [
    {
     "name": "stdout",
     "output_type": "stream",
     "text": [
      "\n",
      "void printCudaVersion();\n",
      "\n",
      "torch::Tensor saxpy_wrapper(int n, const torch::Tensor& x, torch::Tensor y, float a);\n",
      "\n"
     ]
    }
   ],
   "source": [
    "with open(header_code_file) as f:\n",
    "    header_code = \"\".join([f for f in f.readlines() if not f.startswith(\"#include\")])\n",
    "    print(header_code)"
   ]
  },
  {
   "cell_type": "code",
   "execution_count": 5,
   "id": "b97d7f4f-37e6-4e15-a443-408841fad5f6",
   "metadata": {},
   "outputs": [],
   "source": [
    "!rm ./build/*"
   ]
  },
  {
   "cell_type": "code",
   "execution_count": 10,
   "id": "f00df398-4b04-4155-bdb6-21eed6012d79",
   "metadata": {},
   "outputs": [
    {
     "name": "stdout",
     "output_type": "stream",
     "text": [
      "CUDA Compiled version: 12.1\n",
      "CUDA Runtime version: 11070\n",
      "CUDA Driver version: 12020\n"
     ]
    },
    {
     "name": "stderr",
     "output_type": "stream",
     "text": [
      "No modifications detected for re-loaded extension module saxpy_extension, skipping build step...\n",
      "Loading extension module saxpy_extension...\n"
     ]
    }
   ],
   "source": [
    "import torch\n",
    "from torch.utils.cpp_extension import load_inline\n",
    "\n",
    "saxpy_extension = load_inline(\n",
    "    name='saxpy_extension',\n",
    "    cpp_sources=header_code,\n",
    "    cuda_sources=cuda_code,\n",
    "    functions=['saxpy_wrapper', \"printCudaVersion\"],\n",
    "    with_cuda=True,\n",
    "    verbose=True,\n",
    "    extra_cuda_cflags=[\"-O2\"],\n",
    "    build_directory='./build',\n",
    "    # extra_cuda_cflags=['--expt-relaxed-constexpr']\n",
    ")\n",
    "\n",
    "a = torch.tensor([[1., 2., 3.], [4., 5., 6.]], device='cuda')\n",
    "saxpy_extension.printCudaVersion()"
   ]
  },
  {
   "cell_type": "code",
   "execution_count": 8,
   "id": "8e8c4ee7-c140-48e7-9d01-3105c9b7a8ef",
   "metadata": {},
   "outputs": [
    {
     "name": "stdout",
     "output_type": "stream",
     "text": [
      "tensor([[-0.4265,  0.2755, -0.3003],\n",
      "        [ 0.9430,  0.4791, -0.8424]], device='cuda:0')\n",
      "tensor([[-0.3069,  0.6481,  0.8621],\n",
      "        [-0.1215,  0.6083,  0.6522]], device='cuda:0')\n"
     ]
    },
    {
     "ename": "TypeError",
     "evalue": "saxpy_wrapper(): incompatible function arguments. The following argument types are supported:\n    1. (arg0: int, arg1: float, arg2: float, arg3: float) -> None\n\nInvoked with: 6, tensor([[-0.4265,  0.2755, -0.3003],\n        [ 0.9430,  0.4791, -0.8424]], device='cuda:0'), tensor([[-0.3069,  0.6481,  0.8621],\n        [-0.1215,  0.6083,  0.6522]], device='cuda:0'), 2.0",
     "output_type": "error",
     "traceback": [
      "\u001b[0;31m---------------------------------------------------------------------------\u001b[0m",
      "\u001b[0;31mTypeError\u001b[0m                                 Traceback (most recent call last)",
      "Cell \u001b[0;32mIn[8], line 6\u001b[0m\n\u001b[1;32m      3\u001b[0m \u001b[38;5;28mprint\u001b[39m(x)\n\u001b[1;32m      4\u001b[0m \u001b[38;5;28mprint\u001b[39m(y)\n\u001b[0;32m----> 6\u001b[0m saxpy_extension\u001b[38;5;241m.\u001b[39msaxpy_wrapper(\u001b[38;5;241m6\u001b[39m, x, y, \u001b[38;5;241m2.0\u001b[39m)\n",
      "\u001b[0;31mTypeError\u001b[0m: saxpy_wrapper(): incompatible function arguments. The following argument types are supported:\n    1. (arg0: int, arg1: float, arg2: float, arg3: float) -> None\n\nInvoked with: 6, tensor([[-0.4265,  0.2755, -0.3003],\n        [ 0.9430,  0.4791, -0.8424]], device='cuda:0'), tensor([[-0.3069,  0.6481,  0.8621],\n        [-0.1215,  0.6083,  0.6522]], device='cuda:0'), 2.0"
     ]
    }
   ],
   "source": [
    "x = torch.randn((2, 3), device=\"cuda\")\n",
    "y = torch.randn((2, 3), device=\"cuda\")\n",
    "print(x)\n",
    "print(y)\n",
    "\n",
    "saxpy_extension.saxpy_wrapper(6, x, y, 2.0)"
   ]
  },
  {
   "cell_type": "code",
   "execution_count": 7,
   "id": "f266c484-168a-45a5-ab2e-1e330028f262",
   "metadata": {},
   "outputs": [
    {
     "data": {
      "text/plain": [
       "tensor([[-0.7167, -1.6077, -1.3150],\n",
       "        [-2.5737,  0.2456,  0.2314]], device='cuda:0')"
      ]
     },
     "execution_count": 7,
     "metadata": {},
     "output_type": "execute_result"
    }
   ],
   "source": [
    "x"
   ]
  },
  {
   "cell_type": "code",
   "execution_count": null,
   "id": "4e89598d-a0a8-4c81-9e8c-0b40ff0cb257",
   "metadata": {},
   "outputs": [],
   "source": []
  }
 ],
 "metadata": {
  "kernelspec": {
   "display_name": "Python 3 (ipykernel)",
   "language": "python",
   "name": "python3"
  },
  "language_info": {
   "codemirror_mode": {
    "name": "ipython",
    "version": 3
   },
   "file_extension": ".py",
   "mimetype": "text/x-python",
   "name": "python",
   "nbconvert_exporter": "python",
   "pygments_lexer": "ipython3",
   "version": "3.12.2"
  }
 },
 "nbformat": 4,
 "nbformat_minor": 5
}
